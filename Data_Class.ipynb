{
 "cells": [
  {
   "cell_type": "markdown",
   "id": "2fe745ed",
   "metadata": {},
   "source": [
    "# Kelompok 5:\n",
    "- Afina Rahmani 1901377\n",
    "- Azzahra Fahriza 2102296\n",
    "- Muhammad Azka Atqiya 2100812\n",
    "- Nadhief Athallah Isya 2106413\n",
    "- Raisyad Jullfikar 2106238"
   ]
  },
  {
   "cell_type": "code",
   "execution_count": 1,
   "id": "b67b6c3c",
   "metadata": {},
   "outputs": [],
   "source": [
    "# Import Library\n",
    "%matplotlib inline\n",
    "import numpy as np\n",
    "import pandas as pd\n",
    "import matplotlib.pyplot as plt\n",
    "import seaborn as sns\n",
    "from sklearn import preprocessing\n",
    "from sklearn.model_selection import train_test_split\n",
    "import pickle\n",
    "from sklearn.naive_bayes import GaussianNB\n",
    "from sklearn.metrics import classification_report\n",
    "from sklearn.metrics import accuracy_score\n",
    "from sklearn import tree\n",
    "from sklearn.ensemble import RandomForestClassifier\n",
    "import xgboost as xgb\n",
    "from sklearn.metrics import confusion_matrix\n",
    "from sklearn.model_selection import cross_val_score\n",
    "from sklearn.metrics import make_scorer\n",
    "from sklearn.decomposition import PCA\n",
    "import joblib\n",
    "import pickle\n",
    "from sklearn.externals import joblib"
   ]
  },
  {
   "cell_type": "code",
   "execution_count": 2,
   "id": "571aa715",
   "metadata": {},
   "outputs": [],
   "source": [
    "# Read or import data from csv\n",
    "df = pd.read_csv(\"D:/KULIAH/Semester 3/Data Mining/Tugas Sedang/Latihan2/Data_Datmin/Csv/orders_class.csv\")"
   ]
  },
  {
   "cell_type": "code",
   "execution_count": 3,
   "id": "c0339777",
   "metadata": {},
   "outputs": [],
   "source": [
    "# Untuk Mengganti '?' Pada Kolom dateOfBirth Menjadi None\n",
    "df.dateOfBirth=df.dateOfBirth.str.replace('?',\"None\", regex=True)"
   ]
  },
  {
   "cell_type": "code",
   "execution_count": 4,
   "id": "cba62764",
   "metadata": {},
   "outputs": [],
   "source": [
    "# Untuk Menjadikan Nilai Nol Menjadi Null Kemudian Nilai Null Tersebut Diisi Oleh Nilai Median Dari Data Harga\n",
    "df.loc[(df.price == 0), \"price\"]=np.nan\n",
    "df[\"price\"] = df['price'].fillna(df['price'].median(),inplace=False)"
   ]
  },
  {
   "cell_type": "code",
   "execution_count": 5,
   "id": "5c955b5f",
   "metadata": {},
   "outputs": [],
   "source": [
    "# Untuk Mengubah String not reported Menjadi None\n",
    "df.loc[(df.salutation == 'not reported'), \"salutation\"]= \"None\""
   ]
  },
  {
   "cell_type": "code",
   "execution_count": 6,
   "id": "fee4c939",
   "metadata": {},
   "outputs": [],
   "source": [
    "# mengubah huruf dan angka anomali pada size menjadi angka sesuai dengan ketentuan ukuran Europe\n",
    "df['size'] = df['size'].replace(\"xs\", \"30\")\n",
    "df['size'] = df['size'].replace(\"XS\", \"30\")\n",
    "df['size'] = df['size'].replace(\"s\", \"34\")\n",
    "df['size'] = df['size'].replace(\"S\", \"34\")\n",
    "df['size'] = df['size'].replace(\"m\", \"38\")\n",
    "df['size'] = df['size'].replace(\"M\", \"38\")\n",
    "df['size'] = df['size'].replace(\"l\", \"42\")\n",
    "df['size'] = df['size'].replace(\"L\", \"42\")\n",
    "df['size'] = df['size'].replace(\"xl\", \"46\")\n",
    "df['size'] = df['size'].replace(\"XL\", \"46\")\n",
    "df['size'] = df['size'].replace(\"xxl\", \"48\")\n",
    "df['size'] = df['size'].replace(\"XXL\", \"48\")\n",
    "df['size'] = df['size'].replace(\"xxxl\", \"52\")\n",
    "df['size'] = df['size'].replace(\"XXXL\", \"52\")\n",
    "df['size'] = df['size'].replace(\"unsized\", np.nan)\n",
    "df['size'] = df['size'].replace(\"2+\", \"3\")\n",
    "df['size'] = df['size'].replace(\"3+\", \"4\")\n",
    "df['size'] = df['size'].replace(\"4+\", \"5\")\n",
    "df['size'] = df['size'].replace(\"5+\", \"6\")\n",
    "df['size'] = df['size'].replace(\"6+\", \"7\")\n",
    "df['size'] = df['size'].replace(\"7+\", \"8\")\n",
    "df['size'] = df['size'].replace(\"8+\", \"9\")\n",
    "df['size'] = df['size'].replace(\"9+\", \"10\")\n",
    "df['size'] = df['size'].replace(\"10+\", \"11\")\n",
    "df['size'] = df['size'].replace(\"11+\", \"12\")\n",
    "df['size'] = df['size'].replace(\"12+\", \"13\")\n",
    "df['size'] = df['size'].replace(\"13+\", \"14\")\n",
    "df['size'] = df['size'].replace(\"37+\", \"38\")\n",
    "df['size'] = df['size'].replace(\"38+\", \"39\")\n",
    "df['size'] = df['size'].replace(\"39+\", \"40\")\n",
    "df['size'] = df['size'].replace(\"40+\", \"41\")\n",
    "df['size'] = df['size'].replace(\"41+\", \"42\")\n",
    "df['size'] = df['size'].replace(\"43+\", \"44\")\n",
    "df['size'] = df['size'].replace(\"44+\", \"45\")\n",
    "df['size'] = df['size'].replace(\"45+\", \"46\")\n",
    "df['size'] = df['size'].replace(\"46+\", \"47\")\n",
    "\n",
    "# menjadikan format size menjadi integer \n",
    "df['size'] = pd.to_numeric(df['size'], errors = 'coerce').convert_dtypes()\n",
    "\n",
    "# mengubah angka anomali menjadi angka size ukuran global (europe)\n",
    "df['size'] = df['size'].mask(df['size']<=2, 30) #XS\n",
    "df['size'] = df['size'].mask(df['size']<=6, 34) #S\n",
    "df['size'] = df['size'].mask(df['size']<=10, 38)#M \n",
    "df['size'] = df['size'].mask(df['size']<=14, 42)#L\n",
    "df['size'] = df['size'].mask(df['size']<=18, 46)#XL\n",
    "df['size'] = df['size'].mask(df['size']<=22, 48)#XXL\n",
    "df['size'] = df['size'].mask(df['size']<=26, 52)#XXXL\n",
    "\n",
    "# mengubah nilai range data menjadi angka size ukuran global Europe\n",
    "df.loc[df['size'].between(27, 29), 'size'] = 30\n",
    "df.loc[df['size'].between(31, 33), 'size'] = 34\n",
    "df.loc[df['size'].between(35, 37), 'size'] = 38\n",
    "df.loc[df['size'].between(39, 41), 'size'] = 42\n",
    "df.loc[df['size'].between(43, 45), 'size'] = 46\n",
    "df['size'] = df['size'].replace(47, 48)\n",
    "df.loc[df['size'].between(49, 51), 'size'] = 52\n",
    "df.loc[df['size'].between(53, 55), 'size'] = 56\n",
    "df.loc[df['size'].between(57, 59), 'size'] = 60\n",
    "\n",
    "# mengubah nilai range data anomali atau ekstrim menggunakan data mean, median dan value global\n",
    "df.loc[df['size'].between(61, 1000), 'size'] = int(df['size'].mean())\n",
    "df.loc[df['size'].between(1001, 5000), 'size'] = df['size'].median()\n",
    "df.loc[df['size'].between(43, 45), 'size'] = 46\n",
    "\n",
    "# untuk mengisi nilai null pada size dengan nilai median\n",
    "df[\"size\"] = df['size'].fillna(df['size'].median(),inplace=False)\n",
    "\n",
    "# mengubah tipe data size menjadi string\n",
    "df['size'] = df['size'].astype(str)\n",
    "\n",
    "# mengubah value global menjadi ukuran baju (str)\n",
    "df['size'] = df['size'].replace(\"30\", \"XS\")\n",
    "df['size'] = df['size'].replace(\"34\", \"S\")\n",
    "df['size'] = df['size'].replace(\"38\", \"M\")\n",
    "df['size'] = df['size'].replace(\"42\", \"L\")\n",
    "df['size'] = df['size'].replace(\"46\", \"XL\")\n",
    "df['size'] = df['size'].replace(\"48\", \"XXL\")\n",
    "df['size'] = df['size'].replace(\"52\", \"XXXL\")\n",
    "df['size'] = df['size'].replace(\"56\", \"XXXXL\")\n",
    "df['size'] = df['size'].replace(\"60\", \"XXXXL\")"
   ]
  },
  {
   "cell_type": "code",
   "execution_count": 7,
   "id": "5e15f58a",
   "metadata": {},
   "outputs": [],
   "source": [
    "# Mengubah Tipe Data\n",
    "df['size'] = df['size'].astype('category')\n",
    "df['color'] = df['color'].astype('category')\n",
    "df['salutation'] = df['salutation'].astype('category')\n",
    "# mengubah tipe data creationDate menjadi tipe data Datetime\n",
    "df['creationDate'] = pd.to_datetime(df['creationDate'], errors='coerce')\n",
    "df['creationDate'] = pd.to_datetime(df['creationDate'], unit='s')"
   ]
  },
  {
   "cell_type": "code",
   "execution_count": 8,
   "id": "4a6d7eb2",
   "metadata": {},
   "outputs": [],
   "source": [
    "# Proses Pengubahan Format Date Menjadi Format Usia (int)\n",
    "now = pd.Timestamp('now')\n",
    "df['dateOfBirth'] = pd.to_datetime(df['dateOfBirth'], errors='coerce')\n",
    "df['dateOfBirth'] = (now - df['dateOfBirth']).astype('<m8[Y]')\n",
    "df['dateOfBirth'] = pd.to_numeric(df['dateOfBirth'], errors = 'coerce').convert_dtypes()"
   ]
  },
  {
   "cell_type": "code",
   "execution_count": 9,
   "id": "8b76d871",
   "metadata": {},
   "outputs": [],
   "source": [
    "# Mengubah Nama Kolom dateOfBirth Menjadi Age\n",
    "df.rename(columns={'dateOfBirth':'Age'},inplace=True)"
   ]
  },
  {
   "cell_type": "code",
   "execution_count": 10,
   "id": "0cc8bc80",
   "metadata": {},
   "outputs": [],
   "source": [
    "# Mengubah Tipe Data Menjadi Format Date\n",
    "df['deliveryDate'] = pd.to_datetime(df['deliveryDate'], errors='coerce')\n",
    "df['orderDate'] = pd.to_datetime(df['orderDate'], errors='coerce')\n",
    "df['deliveryDate'] = pd.to_datetime(df['deliveryDate'], unit='s')\n",
    "df['orderDate'] = pd.to_datetime(df['orderDate'], unit='s')"
   ]
  },
  {
   "cell_type": "code",
   "execution_count": 11,
   "id": "c024da4a",
   "metadata": {},
   "outputs": [],
   "source": [
    "# Menghapus Baris yang Kosong atau Null\n",
    "df = df.dropna()"
   ]
  },
  {
   "cell_type": "code",
   "execution_count": 12,
   "id": "72cacebd",
   "metadata": {},
   "outputs": [],
   "source": [
    "# Mengeliminasi Data Delivery yang Tahunnya Kurang Dari Data Order\n",
    "df = df[df['deliveryDate'] > df['orderDate']].dropna()"
   ]
  },
  {
   "cell_type": "code",
   "execution_count": 13,
   "id": "27358087",
   "metadata": {},
   "outputs": [],
   "source": [
    "# Filter, umur dibawah 100 tahun\n",
    "df1=df[df.Age < 100 ]"
   ]
  },
  {
   "cell_type": "code",
   "execution_count": 14,
   "id": "1c31d230",
   "metadata": {},
   "outputs": [],
   "source": [
    "# Creeted df_train\n",
    "df1_train = df1.drop(['creationDate', 'deliveryDate', 'orderDate','orderItemID','color'],axis=1)"
   ]
  },
  {
   "cell_type": "code",
   "execution_count": 15,
   "id": "02501ae1",
   "metadata": {},
   "outputs": [],
   "source": [
    "# Dummies\n",
    "df1_train = pd.get_dummies(data=df1_train, columns=['state','size','salutation'])"
   ]
  },
  {
   "cell_type": "code",
   "execution_count": 16,
   "id": "3135f267",
   "metadata": {},
   "outputs": [],
   "source": [
    "# Pickle\n",
    "with open ('D:\\\\KULIAH\\\\Semester 3\\\\Data Mining\\\\Tugas Sedang\\\\Latihan2\\\\data.pickle', 'rb') as fp:\n",
    "    X_train_column = list(pickle.load(fp))\n",
    "    \n",
    "df_prediksi2 = df1_train[X_train_column] "
   ]
  },
  {
   "cell_type": "code",
   "execution_count": 17,
   "id": "e791e8f6",
   "metadata": {},
   "outputs": [
    {
     "data": {
      "text/plain": [
       "Index(['itemID', 'manufacturerID', 'price', 'customerID', 'Age',\n",
       "       'state_Baden-Wuerttemberg', 'state_Bavaria', 'state_Berlin',\n",
       "       'state_Brandenburg', 'state_Bremen', 'state_Hamburg', 'state_Hesse',\n",
       "       'state_Lower Saxony', 'state_Mecklenburg-Western Pomerania',\n",
       "       'state_North Rhine-Westphalia', 'state_Rhineland-Palatinate',\n",
       "       'state_Saarland', 'state_Saxony', 'state_Saxony-Anhalt',\n",
       "       'state_Schleswig-Holstein', 'state_Thuringia', 'size_L', 'size_M',\n",
       "       'size_S', 'size_XL', 'size_XS', 'size_XXL', 'size_XXXL', 'size_XXXXL',\n",
       "       'salutation_Company', 'salutation_Family', 'salutation_Mr',\n",
       "       'salutation_Mrs', 'salutation_None'],\n",
       "      dtype='object')"
      ]
     },
     "execution_count": 17,
     "metadata": {},
     "output_type": "execute_result"
    }
   ],
   "source": [
    "# Show the columns\n",
    "df1_train.columns"
   ]
  },
  {
   "cell_type": "code",
   "execution_count": 18,
   "id": "d07c885e",
   "metadata": {},
   "outputs": [
    {
     "data": {
      "text/plain": [
       "array([0, 1, 1, ..., 1, 1, 1], dtype=int64)"
      ]
     },
     "execution_count": 18,
     "metadata": {},
     "output_type": "execute_result"
    }
   ],
   "source": [
    "# Joblib\n",
    "clf = joblib.load(\"D:\\\\KULIAH\\\\Semester 3\\\\Data Mining\\\\Tugas Sedang\\\\Latihan2\\\\classification.joblib\")\n",
    "clf.predict(df_prediksi2)"
   ]
  },
  {
   "cell_type": "code",
   "execution_count": 37,
   "id": "af8fc0ff",
   "metadata": {},
   "outputs": [],
   "source": [
    "# Created data use enumerate\n",
    "df_Answer = []\n",
    "for i, j in enumerate(clf.predict(df_prediksi2)):\n",
    "    df_Answer.append([i, j])"
   ]
  },
  {
   "cell_type": "code",
   "execution_count": 2,
   "id": "7a4c61ef",
   "metadata": {},
   "outputs": [],
   "source": [
    "# Print out df(list)\n",
    "df_Answer"
   ]
  },
  {
   "cell_type": "code",
   "execution_count": 39,
   "id": "88480a74",
   "metadata": {},
   "outputs": [],
   "source": [
    "# Created dataframe from list\n",
    "df_hasil = pd.DataFrame(df_Answer)"
   ]
  },
  {
   "cell_type": "code",
   "execution_count": 40,
   "id": "c8502959",
   "metadata": {
    "scrolled": true
   },
   "outputs": [
    {
     "data": {
      "text/html": [
       "<div>\n",
       "<style scoped>\n",
       "    .dataframe tbody tr th:only-of-type {\n",
       "        vertical-align: middle;\n",
       "    }\n",
       "\n",
       "    .dataframe tbody tr th {\n",
       "        vertical-align: top;\n",
       "    }\n",
       "\n",
       "    .dataframe thead th {\n",
       "        text-align: right;\n",
       "    }\n",
       "</style>\n",
       "<table border=\"1\" class=\"dataframe\">\n",
       "  <thead>\n",
       "    <tr style=\"text-align: right;\">\n",
       "      <th></th>\n",
       "      <th>0</th>\n",
       "      <th>1</th>\n",
       "    </tr>\n",
       "  </thead>\n",
       "  <tbody>\n",
       "    <tr>\n",
       "      <th>0</th>\n",
       "      <td>0</td>\n",
       "      <td>0</td>\n",
       "    </tr>\n",
       "    <tr>\n",
       "      <th>1</th>\n",
       "      <td>1</td>\n",
       "      <td>1</td>\n",
       "    </tr>\n",
       "    <tr>\n",
       "      <th>2</th>\n",
       "      <td>2</td>\n",
       "      <td>1</td>\n",
       "    </tr>\n",
       "    <tr>\n",
       "      <th>3</th>\n",
       "      <td>3</td>\n",
       "      <td>1</td>\n",
       "    </tr>\n",
       "    <tr>\n",
       "      <th>4</th>\n",
       "      <td>4</td>\n",
       "      <td>0</td>\n",
       "    </tr>\n",
       "    <tr>\n",
       "      <th>...</th>\n",
       "      <td>...</td>\n",
       "      <td>...</td>\n",
       "    </tr>\n",
       "    <tr>\n",
       "      <th>40153</th>\n",
       "      <td>40153</td>\n",
       "      <td>1</td>\n",
       "    </tr>\n",
       "    <tr>\n",
       "      <th>40154</th>\n",
       "      <td>40154</td>\n",
       "      <td>1</td>\n",
       "    </tr>\n",
       "    <tr>\n",
       "      <th>40155</th>\n",
       "      <td>40155</td>\n",
       "      <td>1</td>\n",
       "    </tr>\n",
       "    <tr>\n",
       "      <th>40156</th>\n",
       "      <td>40156</td>\n",
       "      <td>1</td>\n",
       "    </tr>\n",
       "    <tr>\n",
       "      <th>40157</th>\n",
       "      <td>40157</td>\n",
       "      <td>1</td>\n",
       "    </tr>\n",
       "  </tbody>\n",
       "</table>\n",
       "<p>40158 rows × 2 columns</p>\n",
       "</div>"
      ],
      "text/plain": [
       "           0  1\n",
       "0          0  0\n",
       "1          1  1\n",
       "2          2  1\n",
       "3          3  1\n",
       "4          4  0\n",
       "...      ... ..\n",
       "40153  40153  1\n",
       "40154  40154  1\n",
       "40155  40155  1\n",
       "40156  40156  1\n",
       "40157  40157  1\n",
       "\n",
       "[40158 rows x 2 columns]"
      ]
     },
     "execution_count": 40,
     "metadata": {},
     "output_type": "execute_result"
    }
   ],
   "source": [
    "# Show df hasil\n",
    "df_hasil"
   ]
  },
  {
   "cell_type": "code",
   "execution_count": 41,
   "id": "5a73796b",
   "metadata": {},
   "outputs": [],
   "source": [
    "# Add columns name\n",
    "df_hasil.columns =['orderItemID', 'prediction']"
   ]
  },
  {
   "cell_type": "code",
   "execution_count": 42,
   "id": "9e1ac207",
   "metadata": {},
   "outputs": [
    {
     "data": {
      "text/html": [
       "<div>\n",
       "<style scoped>\n",
       "    .dataframe tbody tr th:only-of-type {\n",
       "        vertical-align: middle;\n",
       "    }\n",
       "\n",
       "    .dataframe tbody tr th {\n",
       "        vertical-align: top;\n",
       "    }\n",
       "\n",
       "    .dataframe thead th {\n",
       "        text-align: right;\n",
       "    }\n",
       "</style>\n",
       "<table border=\"1\" class=\"dataframe\">\n",
       "  <thead>\n",
       "    <tr style=\"text-align: right;\">\n",
       "      <th></th>\n",
       "      <th>orderItemID</th>\n",
       "      <th>prediction</th>\n",
       "    </tr>\n",
       "  </thead>\n",
       "  <tbody>\n",
       "    <tr>\n",
       "      <th>0</th>\n",
       "      <td>0</td>\n",
       "      <td>0</td>\n",
       "    </tr>\n",
       "    <tr>\n",
       "      <th>1</th>\n",
       "      <td>1</td>\n",
       "      <td>1</td>\n",
       "    </tr>\n",
       "    <tr>\n",
       "      <th>2</th>\n",
       "      <td>2</td>\n",
       "      <td>1</td>\n",
       "    </tr>\n",
       "    <tr>\n",
       "      <th>3</th>\n",
       "      <td>3</td>\n",
       "      <td>1</td>\n",
       "    </tr>\n",
       "    <tr>\n",
       "      <th>4</th>\n",
       "      <td>4</td>\n",
       "      <td>0</td>\n",
       "    </tr>\n",
       "    <tr>\n",
       "      <th>...</th>\n",
       "      <td>...</td>\n",
       "      <td>...</td>\n",
       "    </tr>\n",
       "    <tr>\n",
       "      <th>40153</th>\n",
       "      <td>40153</td>\n",
       "      <td>1</td>\n",
       "    </tr>\n",
       "    <tr>\n",
       "      <th>40154</th>\n",
       "      <td>40154</td>\n",
       "      <td>1</td>\n",
       "    </tr>\n",
       "    <tr>\n",
       "      <th>40155</th>\n",
       "      <td>40155</td>\n",
       "      <td>1</td>\n",
       "    </tr>\n",
       "    <tr>\n",
       "      <th>40156</th>\n",
       "      <td>40156</td>\n",
       "      <td>1</td>\n",
       "    </tr>\n",
       "    <tr>\n",
       "      <th>40157</th>\n",
       "      <td>40157</td>\n",
       "      <td>1</td>\n",
       "    </tr>\n",
       "  </tbody>\n",
       "</table>\n",
       "<p>40158 rows × 2 columns</p>\n",
       "</div>"
      ],
      "text/plain": [
       "       orderItemID  prediction\n",
       "0                0           0\n",
       "1                1           1\n",
       "2                2           1\n",
       "3                3           1\n",
       "4                4           0\n",
       "...            ...         ...\n",
       "40153        40153           1\n",
       "40154        40154           1\n",
       "40155        40155           1\n",
       "40156        40156           1\n",
       "40157        40157           1\n",
       "\n",
       "[40158 rows x 2 columns]"
      ]
     },
     "execution_count": 42,
     "metadata": {},
     "output_type": "execute_result"
    }
   ],
   "source": [
    "# Show df_Hasil\n",
    "df_hasil"
   ]
  },
  {
   "cell_type": "code",
   "execution_count": 57,
   "id": "a7eda46f",
   "metadata": {},
   "outputs": [],
   "source": [
    "# Save to the txt file\n",
    "np.savetxt(r'D:\\KULIAH\\Semester 3\\Data Mining\\Tugas Sedang\\Latihan2\\order_class.txt', df_hasil, fmt='%d', delimiter=';',header=\"orderItemID;prediction\", comments='' )"
   ]
  },
  {
   "cell_type": "code",
   "execution_count": 68,
   "id": "c4a1e5a9",
   "metadata": {},
   "outputs": [],
   "source": [
    "# Read txt file to dataframe\n",
    "df2 = pd.read_table(\"D:\\\\KULIAH\\\\Semester 3\\\\Data Mining\\\\Tugas Sedang\\\\Latihan2\\\\order_class.txt\", delimiter=\";\", na_values = '?')"
   ]
  },
  {
   "cell_type": "code",
   "execution_count": 70,
   "id": "0e08eaba",
   "metadata": {},
   "outputs": [
    {
     "data": {
      "text/plain": [
       "1    24415\n",
       "0    15743\n",
       "Name: prediction, dtype: int64"
      ]
     },
     "execution_count": 70,
     "metadata": {},
     "output_type": "execute_result"
    }
   ],
   "source": [
    "# Counts data true and false from prediction column\n",
    "df2['prediction'].value_counts()"
   ]
  }
 ],
 "metadata": {
  "kernelspec": {
   "display_name": "Python 3 (ipykernel)",
   "language": "python",
   "name": "python3"
  },
  "language_info": {
   "codemirror_mode": {
    "name": "ipython",
    "version": 3
   },
   "file_extension": ".py",
   "mimetype": "text/x-python",
   "name": "python",
   "nbconvert_exporter": "python",
   "pygments_lexer": "ipython3",
   "version": "3.9.12"
  }
 },
 "nbformat": 4,
 "nbformat_minor": 5
}
